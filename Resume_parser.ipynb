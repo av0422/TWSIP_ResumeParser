{
 "cells": [
  {
   "cell_type": "markdown",
   "id": "eeecbe6b",
   "metadata": {},
   "source": [
    "## Resume Parser using NLP(Spacy) and Machine Learning"
   ]
  },
  {
   "cell_type": "markdown",
   "id": "d8ec9bc4",
   "metadata": {},
   "source": [
    "### What is Resume Parsing?\n",
    "<i>Resume parsing is a technology used in the field of Human Resources and recruitment to extract relevant information from job applicants' resumes or CVs (Curriculum Vitae). The goal of resume parsing is to automate the process of collecting and categorizing data, making it easier for employers and HR professionals to review and compare the qualifications of candidates</i>"
   ]
  },
  {
   "cell_type": "markdown",
   "id": "ef12edb6",
   "metadata": {},
   "source": [
    "### Spacy\n",
    "<i> spaCy is an open-source software library for advanced natural language processing, written in the programming languages Python and Cython. spaCy comes with pretrained pipelines and currently supports tokenization and training for 60+ languages"
   ]
  },
  {
   "cell_type": "markdown",
   "id": "2cd0e996",
   "metadata": {},
   "source": [
    "## Importing necessary modules"
   ]
  },
  {
   "cell_type": "code",
   "execution_count": 1,
   "id": "ee16b9b3",
   "metadata": {},
   "outputs": [],
   "source": [
    "import numpy as np\n",
    "import pandas as pd \n",
    "import matplotlib.pyplot as plt\n",
    "import seaborn as sns\n",
    "import nltk\n",
    "from nltk.tokenize import word_tokenize, sent_tokenize\n",
    "from nltk.corpus import stopwords\n",
    "from nltk.stem import WordNetLemmatizer\n",
    "import pickle\n",
    "import random"
   ]
  },
  {
   "cell_type": "markdown",
   "id": "58cf3aba",
   "metadata": {},
   "source": [
    "## Data Preprocessing"
   ]
  },
  {
   "cell_type": "markdown",
   "id": "5eedf1b2",
   "metadata": {},
   "source": [
    "### 1.  Analysing Resume dataset"
   ]
  },
  {
   "cell_type": "code",
   "execution_count": 2,
   "id": "8f76b3ef",
   "metadata": {},
   "outputs": [
    {
     "data": {
      "text/html": [
       "<div>\n",
       "<style scoped>\n",
       "    .dataframe tbody tr th:only-of-type {\n",
       "        vertical-align: middle;\n",
       "    }\n",
       "\n",
       "    .dataframe tbody tr th {\n",
       "        vertical-align: top;\n",
       "    }\n",
       "\n",
       "    .dataframe thead th {\n",
       "        text-align: right;\n",
       "    }\n",
       "</style>\n",
       "<table border=\"1\" class=\"dataframe\">\n",
       "  <thead>\n",
       "    <tr style=\"text-align: right;\">\n",
       "      <th></th>\n",
       "      <th>Name</th>\n",
       "      <th>Email</th>\n",
       "      <th>Company</th>\n",
       "      <th>Start Date</th>\n",
       "      <th>End Date</th>\n",
       "      <th>Skill</th>\n",
       "      <th>Language</th>\n",
       "    </tr>\n",
       "  </thead>\n",
       "  <tbody>\n",
       "    <tr>\n",
       "      <th>0</th>\n",
       "      <td>William Sheppard</td>\n",
       "      <td>kdorsey@example.org</td>\n",
       "      <td>Gates-Bates</td>\n",
       "      <td>1977-02-12</td>\n",
       "      <td>2003-03-03</td>\n",
       "      <td>HTML</td>\n",
       "      <td>English</td>\n",
       "    </tr>\n",
       "    <tr>\n",
       "      <th>1</th>\n",
       "      <td>Timothy Goodwin</td>\n",
       "      <td>elizabethchandler@example.org</td>\n",
       "      <td>Blevins, Graham and Sweeney</td>\n",
       "      <td>1970-02-18</td>\n",
       "      <td>2008-04-03</td>\n",
       "      <td>JavaScript</td>\n",
       "      <td>Spanish</td>\n",
       "    </tr>\n",
       "    <tr>\n",
       "      <th>2</th>\n",
       "      <td>Rebecca Ward</td>\n",
       "      <td>sarah17@example.org</td>\n",
       "      <td>Green-Jones</td>\n",
       "      <td>1984-11-23</td>\n",
       "      <td>2006-11-30</td>\n",
       "      <td>Node.js</td>\n",
       "      <td>English</td>\n",
       "    </tr>\n",
       "    <tr>\n",
       "      <th>3</th>\n",
       "      <td>Joshua Jensen</td>\n",
       "      <td>paullee@example.org</td>\n",
       "      <td>Carter Group</td>\n",
       "      <td>1989-02-01</td>\n",
       "      <td>2017-03-05</td>\n",
       "      <td>HTML</td>\n",
       "      <td>German</td>\n",
       "    </tr>\n",
       "    <tr>\n",
       "      <th>4</th>\n",
       "      <td>Alicia Howell MD</td>\n",
       "      <td>dorothychavez@example.com</td>\n",
       "      <td>Blevins-Harris</td>\n",
       "      <td>1991-02-08</td>\n",
       "      <td>2023-01-08</td>\n",
       "      <td>Angular</td>\n",
       "      <td>English</td>\n",
       "    </tr>\n",
       "  </tbody>\n",
       "</table>\n",
       "</div>"
      ],
      "text/plain": [
       "               Name                          Email  \\\n",
       "0  William Sheppard            kdorsey@example.org   \n",
       "1   Timothy Goodwin  elizabethchandler@example.org   \n",
       "2      Rebecca Ward            sarah17@example.org   \n",
       "3     Joshua Jensen            paullee@example.org   \n",
       "4  Alicia Howell MD      dorothychavez@example.com   \n",
       "\n",
       "                       Company  Start Date    End Date       Skill Language  \n",
       "0                  Gates-Bates  1977-02-12  2003-03-03        HTML  English  \n",
       "1  Blevins, Graham and Sweeney  1970-02-18  2008-04-03  JavaScript  Spanish  \n",
       "2                  Green-Jones  1984-11-23  2006-11-30     Node.js  English  \n",
       "3                 Carter Group  1989-02-01  2017-03-05        HTML   German  \n",
       "4               Blevins-Harris  1991-02-08  2023-01-08     Angular  English  "
      ]
     },
     "execution_count": 2,
     "metadata": {},
     "output_type": "execute_result"
    }
   ],
   "source": [
    "df = pd.read_csv(\"resume_data.csv\") #a dataset containing many resume's content\n",
    "df.head()"
   ]
  },
  {
   "cell_type": "markdown",
   "id": "7bfd3291",
   "metadata": {},
   "source": [
    "### 1.1 EDA of Resume dataset"
   ]
  },
  {
   "cell_type": "markdown",
   "id": "1f3dda83",
   "metadata": {},
   "source": [
    "Lets do analysis on the company these people have worked."
   ]
  },
  {
   "cell_type": "code",
   "execution_count": 3,
   "id": "ed488b64",
   "metadata": {},
   "outputs": [
    {
     "data": {
      "text/plain": [
       "Smith Group               18\n",
       "Smith PLC                 14\n",
       "Williams Group            12\n",
       "Johnson and Sons          12\n",
       "Smith Inc                 12\n",
       "                          ..\n",
       "Christian PLC              1\n",
       "Olsen-Allen                1\n",
       "Washington-Palmer          1\n",
       "Logan, Wolf and Martin     1\n",
       "Salinas-Wilson             1\n",
       "Name: Company, Length: 8667, dtype: int64"
      ]
     },
     "execution_count": 3,
     "metadata": {},
     "output_type": "execute_result"
    }
   ],
   "source": [
    "df['Company'].value_counts()"
   ]
  },
  {
   "cell_type": "code",
   "execution_count": 4,
   "id": "6e54e814",
   "metadata": {},
   "outputs": [
    {
     "data": {
      "image/png": "[encoded data removed]",
      "text/plain": [
       "<Figure size 648x360 with 1 Axes>"
      ]
     },
     "metadata": {
      "needs_background": "light"
     },
     "output_type": "display_data"
    }
   ],
   "source": [
    "plt.figure(figsize=(9,5))\n",
    "sns.countplot(x='Company', data=df, order=pd.value_counts(df['Company']).iloc[:20].index)\n",
    "plt.xticks(rotation=90)\n",
    "plt.show()"
   ]
  },
  {
   "cell_type": "code",
   "execution_count": 5,
   "id": "e0b087d4",
   "metadata": {},
   "outputs": [
    {
     "data": {
      "text/plain": [
       "array(['Gates-Bates', 'Blevins, Graham and Sweeney', 'Green-Jones', ...,\n",
       "       'Yoder-Hatfield', 'Castillo PLC', 'Salinas-Wilson'], dtype=object)"
      ]
     },
     "execution_count": 5,
     "metadata": {},
     "output_type": "execute_result"
    }
   ],
   "source": [
    "df['Company'].unique()"
   ]
  },
  {
   "cell_type": "code",
   "execution_count": 6,
   "id": "c4753606",
   "metadata": {},
   "outputs": [
    {
     "name": "stdout",
     "output_type": "stream",
     "text": [
      "No of Unique Companies: 8667\n"
     ]
    }
   ],
   "source": [
    "print(f\"No of Unique Companies: {df['Company'].unique().shape[0]}\")"
   ]
  },
  {
   "cell_type": "markdown",
   "id": "b03f3e03",
   "metadata": {},
   "source": [
    "### 2. Parsing through individual resumes"
   ]
  },
  {
   "cell_type": "markdown",
   "id": "8b2f8868",
   "metadata": {},
   "source": [
    "### 2.1 Converting individual pdf resume to text format"
   ]
  },
  {
   "cell_type": "markdown",
   "id": "ff34e61c",
   "metadata": {},
   "source": [
    "Here we extracted the text from resume using PyPDF2 and stored it in 'output.txt' file."
   ]
  },
  {
   "cell_type": "code",
   "execution_count": 7,
   "id": "25833411",
   "metadata": {},
   "outputs": [
    {
     "data": {
      "text/plain": [
       "\"Name First.lastname@selu.edu • 985-555-1234 • City, State Zip Code EDUCA TION Southeastern Louisiana University , Hammond, LA Bachelor Science, Biological Sciences , GPA: 3.1, May 2025 WORK EXPERIENCE Dining Room Attendant , August 2020 –March 2021 SLU Food Services, Hammond, LA ● Maintained clean safe environment dining hall serving 1,000+ patrons daily ● Communicated students staff resolve issues ensure quality experience ● Completed Student Manager Training Program within first month work Babysitter , August 2019 – June 2020 Self-Employed , Covington, LA ● Ensured safety , health, welfare 2 children, ages 3 8, every day school ● Organized safe, fun, educational activities visits park crafts ● Supported learning explaining homework working problems together LEADERSHIP EXPERIENCE Student Athlete, Role/Position, August 2020 – Present Volleyball Team, Southeastern Louisiana University ● Selected 1 # team members completing 20-hour intensive training period ● Participated # philanthropy events yearly represent university ● Dedicated # hours per week training competition balancing # academic hours Volleyball Repr esentative, August 2021 – May 2022 Student-Athlete Advisory Committee, Southeastern Louisiana University ● Attended weekly committee meetings, representing women's volleyball team fairly ● Advocated concerns interests student-athletes Southeastern ● Served leader implement resolutions voted board year Parks Recr eation, Summer 2020 – 2022 Basketball Camp Coach/Coor dinator , Hammond, LA ● Instructed 60-70 1 st – 9 th grade athletes proper athletic skills development ● Created interactive sessions engage youth practice safe techniques strategies ● Collaborated 4 coaches team environment ● Monitored evaluated drills activities implemented proper safety measures ● Maintained positive communication campers parents CER TIFICA TIONS & SKILLS ● CPR & First Aid Certified ● Proficient Microsoft Word; basic knowledge Microsoft PowerPoint Excel\""
      ]
     },
     "execution_count": 7,
     "metadata": {},
     "output_type": "execute_result"
    }
   ],
   "source": [
    "import PyPDF2 #Function for converting pdf to plaintext\n",
    "\n",
    "# Opening the PDF file\n",
    "with open('Student.pdf', 'rb') as pdf_file:\n",
    "    # Create a PDF reader object\n",
    "    pdf_reader = PyPDF2.PdfReader(pdf_file)\n",
    "\n",
    "    # Initializing an empty string to store the extracted text\n",
    "    resume_text = ''\n",
    "\n",
    "    # Looping through each page and extracting the text\n",
    "    for num in range(len(pdf_reader.pages)):\n",
    "        page = pdf_reader.pages[num]\n",
    "        resume_text += page.extract_text()\n",
    "\n",
    "\n",
    "# You can also save the text to a file if needed\n",
    "\n",
    "\n",
    "sw_nltk = stopwords.words('english')\n",
    "words = [word for word in resume_text.split() if word.lower() not in sw_nltk]\n",
    "new_text1 = \" \".join(words)\n",
    "\n",
    "with open('output.txt', 'w', encoding='utf-8') as text_file:\n",
    "    text_file.write(new_text1)\n",
    "\n",
    "new_text1"
   ]
  },
  {
   "cell_type": "markdown",
   "id": "3599b28c",
   "metadata": {},
   "source": [
    "### 2.2 Sample resume text\n",
    "Here we use resume text from the txt format itself (which is equivalent to reading a resume in text format)."
   ]
  },
  {
   "cell_type": "code",
   "execution_count": 8,
   "id": "d4168197",
   "metadata": {},
   "outputs": [
    {
     "data": {
      "text/plain": [
       "'John Clark Data Scientist Summary: Experienced data scientist background machine learning natural language processing. Skills: - Machine Learning - NLP - Python - Data Analysis - Deep Learning Contact: +91 9425372877 Email: johnclark132@gmail.com Education: - M.S. Computer Science, University XYZ - B.S. Mathematics, University ABC Work Experience: Data Scientist, Company Google - Developed machine learning models customer churn prediction. - Analyzed processed text data using NLP techniques. Software Engineer, Company Microsoft - Worked software development projects using Python Java.'"
      ]
     },
     "execution_count": 8,
     "metadata": {},
     "output_type": "execute_result"
    }
   ],
   "source": [
    "text_file = '''John Clark\n",
    "Data Scientist\n",
    "\n",
    "Summary:\n",
    "Experienced data scientist with a background in machine learning and natural language processing.\n",
    "\n",
    "Skills:\n",
    "- Machine Learning\n",
    "- NLP\n",
    "- Python\n",
    "- Data Analysis\n",
    "- Deep Learning\n",
    "\n",
    "Contact:\n",
    "+91 9425372877\n",
    "\n",
    "Email:\n",
    "johnclark132@gmail.com\n",
    "\n",
    "Education:\n",
    "- M.S. in Computer Science, University of XYZ\n",
    "- B.S. in Mathematics, University of ABC\n",
    "\n",
    "Work Experience:\n",
    "Data Scientist, Company Google\n",
    "- Developed machine learning models for customer churn prediction.\n",
    "- Analyzed and processed text data using NLP techniques.\n",
    "\n",
    "Software Engineer, Company Microsoft\n",
    "- Worked on software development projects using Python and Java.    '''\n",
    "\n",
    "\n",
    "sw_nltk = stopwords.words('english')\n",
    "words = [word for word in text_file.split() if word.lower() not in sw_nltk]\n",
    "new_text = \" \".join(words)\n",
    "\n",
    "new_text"
   ]
  },
  {
   "cell_type": "markdown",
   "id": "a70d0f3a",
   "metadata": {},
   "source": [
    "## 3. NLP Model Development"
   ]
  },
  {
   "cell_type": "code",
   "execution_count": 9,
   "id": "74f0c842",
   "metadata": {},
   "outputs": [],
   "source": [
    "import spacy\n",
    "from sklearn.feature_extraction.text import TfidfVectorizer\n",
    "from sklearn.ensemble import RandomForestClassifier"
   ]
  },
  {
   "cell_type": "code",
   "execution_count": 10,
   "id": "863f95f7",
   "metadata": {},
   "outputs": [],
   "source": [
    "# Loading the English language model from spaCy\n",
    "nlp = spacy.load(\"en_core_web_sm\")"
   ]
  },
  {
   "cell_type": "markdown",
   "id": "1fc4d1b8",
   "metadata": {},
   "source": [
    "### 3.1 Extracting skills using Word Embedding"
   ]
  },
  {
   "cell_type": "markdown",
   "id": "d1b5b7ef",
   "metadata": {},
   "source": [
    "<b>Word Embedding or Word Vector </b> is a numeric vector input that represents a word in a lower-dimensional space. It allows words with similar meanings to have a similar representation. They can also approximate meaning. A word vector with 50 values can represent 50 unique features."
   ]
  },
  {
   "cell_type": "code",
   "execution_count": 11,
   "id": "d28ac2db",
   "metadata": {},
   "outputs": [
    {
     "data": {
      "text/plain": [
       "['Machine Learning', 'Data Analysis']"
      ]
     },
     "execution_count": 11,
     "metadata": {},
     "output_type": "execute_result"
    }
   ],
   "source": [
    "skills_needed_for_job = [\"Python\", \"Java\", \"Machine Learning\", \"Data Analysis\", \"Teamwork\", 'C++', \"NLP\", \"Javascript\"]\n",
    "\n",
    "def skills(resume_text, skills_needed_for_job): #defining the function\n",
    "    skill_vectors = {} #a dictionary is initialized to store the cosine similarity scores for each skill\n",
    "    \n",
    "    for skill in skills_needed_for_job: \n",
    "        skill_vec = nlp(skill).vector #using nlp to obtain vector representation of that skill while iterating through the loop.\n",
    "        resume_vec = nlp(new_text).vector #same but for new_text i.e.cleaned resume text\n",
    "        \n",
    "        # Calculating the cosine similarity between the skill vector and resume vector:\n",
    "        similarity = np.dot(skill_vec, resume_vec) / (np.linalg.norm(skill_vec) * np.linalg.norm(resume_vec))\n",
    "        \n",
    "        if similarity > 0.6:  # Deciding a threshold to check relevant skills\n",
    "            skill_vectors[skill] = similarity #added to skill vectors if above threshold\n",
    "    \n",
    "    # Sorting skills by similarity score\n",
    "    extracted_skills = sorted(skill_vectors, key=skill_vectors.get, reverse=True)\n",
    "    \n",
    "    return extracted_skills\n",
    "\n",
    "skills(text_file, skills_needed_for_job)"
   ]
  },
  {
   "cell_type": "markdown",
   "id": "be9f8f8e",
   "metadata": {},
   "source": [
    "### 3.2 Extracting Education using Regex"
   ]
  },
  {
   "cell_type": "markdown",
   "id": "674ccfb3",
   "metadata": {},
   "source": [
    "Regular expressions (regex) are patterns used for matching and manipulating strings. They are powerful tools for text processing and searching."
   ]
  },
  {
   "cell_type": "code",
   "execution_count": 12,
   "id": "9a042e4f",
   "metadata": {},
   "outputs": [
    {
     "name": "stdout",
     "output_type": "stream",
     "text": [
      "Education Details:\n",
      "M.S.\n",
      "B.S.\n"
     ]
    }
   ],
   "source": [
    "import re \n",
    "def extract_education(new_text):\n",
    "    education = []\n",
    "    pattern = r\"(?:B\\.Sc\\. |B\\.S\\.|M\\.Sc\\.|M\\.S\\.|Ph\\.D\\.|B\\.Tech\\.|M\\.Tech\\.|B\\.A\\.|M\\.A\\.|B\\.E\\.|M\\.E\\.|B\\.Com\\.|M\\.Com\\.)\"\n",
    "    matches = re.findall(pattern, new_text)\n",
    "    for match in matches:\n",
    "        education.append(match.strip())\n",
    "\n",
    "    return education\n",
    "\n",
    "\n",
    "education_details = extract_education(new_text)\n",
    "if education_details:\n",
    "    print(\"Education Details:\")\n",
    "    for edu in education_details:\n",
    "        print(edu)\n",
    "else:\n",
    "    print(\"No education details found.\")"
   ]
  },
  {
   "cell_type": "markdown",
   "id": "f8d6313b",
   "metadata": {},
   "source": [
    "### 3.3 Extracting Name using regex"
   ]
  },
  {
   "cell_type": "code",
   "execution_count": 13,
   "id": "5b17d7d2",
   "metadata": {},
   "outputs": [
    {
     "name": "stdout",
     "output_type": "stream",
     "text": [
      "Name: John Clark\n"
     ]
    }
   ],
   "source": [
    "def extract_name(text):\n",
    "    name = []\n",
    "\n",
    "    # Using regex pattern a name\n",
    "    patterns = r\"(\\b[A-Z][a-z]+\\b)\\s(\\b[A-Z][a-z]+\\b)\"\n",
    "    match = re.search(patterns, text) #\n",
    "    if match:\n",
    "        name = match.group()\n",
    "\n",
    "    return name\n",
    "\n",
    "    \n",
    "\n",
    "name = extract_name(new_text)\n",
    "\n",
    "if name:\n",
    "    print(\"Name:\", name)\n",
    "else:\n",
    "    print(\"Name not found\")"
   ]
  },
  {
   "cell_type": "markdown",
   "id": "de885504",
   "metadata": {},
   "source": [
    "### 3.4 Extracting Contact using regex"
   ]
  },
  {
   "cell_type": "code",
   "execution_count": 14,
   "id": "8c752398",
   "metadata": {},
   "outputs": [
    {
     "name": "stdout",
     "output_type": "stream",
     "text": [
      "Contact: +91 9425372877\n"
     ]
    }
   ],
   "source": [
    "def extract_contact(text):\n",
    "    contact = []\n",
    "    \n",
    "    patterns1 = r'[\\+\\(]?[1-9][0-9 .\\-\\(\\)]{8,}[0-9]'\n",
    "\n",
    "    match = re.search(patterns1, text)\n",
    "    if match:\n",
    "        contact = match.group()\n",
    "    return contact\n",
    "\n",
    "\n",
    "contact = extract_contact(new_text)\n",
    "if contact:\n",
    "    print(\"Contact:\", contact)\n",
    "else:\n",
    "    print(\"Contact Number not found\")"
   ]
  },
  {
   "cell_type": "markdown",
   "id": "fd8808c9",
   "metadata": {},
   "source": [
    "### 3.5 Extracting Email using regex"
   ]
  },
  {
   "cell_type": "code",
   "execution_count": 15,
   "id": "981709f4",
   "metadata": {},
   "outputs": [
    {
     "name": "stdout",
     "output_type": "stream",
     "text": [
      "Email: johnclark132@gmail.com\n"
     ]
    }
   ],
   "source": [
    "def extract_email(text):\n",
    "    email = []\n",
    "    \n",
    "    patterns2 = r'[a-z0-9\\.\\-+_]+@[a-z0-9\\.\\-+_]+'\n",
    "\n",
    "    match = re.search(patterns2, text)\n",
    "    if match:\n",
    "        email = match.group()\n",
    "    return email\n",
    "\n",
    "\n",
    "email = extract_email(new_text)\n",
    "if email:\n",
    "    print(\"Email:\", email)\n",
    "else:\n",
    "    print(\"Email not found\")"
   ]
  },
  {
   "cell_type": "code",
   "execution_count": null,
   "id": "9778f91a",
   "metadata": {},
   "outputs": [],
   "source": []
  },
  {
   "cell_type": "code",
   "execution_count": null,
   "id": "d4041d06",
   "metadata": {},
   "outputs": [],
   "source": []
  }
 ],
 "metadata": {
  "kernelspec": {
   "display_name": "Python 3 (ipykernel)",
   "language": "python",
   "name": "python3"
  },
  "language_info": {
   "codemirror_mode": {
    "name": "ipython",
    "version": 3
   },
   "file_extension": ".py",
   "mimetype": "text/x-python",
   "name": "python",
   "nbconvert_exporter": "python",
   "pygments_lexer": "ipython3",
   "version": "3.9.12"
  }
 },
 "nbformat": 4,
 "nbformat_minor": 5
}
